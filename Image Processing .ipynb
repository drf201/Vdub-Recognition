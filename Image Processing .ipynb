{
 "cells": [
  {
   "cell_type": "code",
   "execution_count": 1,
   "metadata": {},
   "outputs": [
    {
     "name": "stderr",
     "output_type": "stream",
     "text": [
      "//anaconda3/lib/python3.7/site-packages/tensorflow/python/framework/dtypes.py:516: FutureWarning: Passing (type, 1) or '1type' as a synonym of type is deprecated; in a future version of numpy, it will be understood as (type, (1,)) / '(1,)type'.\n",
      "  _np_qint8 = np.dtype([(\"qint8\", np.int8, 1)])\n",
      "//anaconda3/lib/python3.7/site-packages/tensorflow/python/framework/dtypes.py:517: FutureWarning: Passing (type, 1) or '1type' as a synonym of type is deprecated; in a future version of numpy, it will be understood as (type, (1,)) / '(1,)type'.\n",
      "  _np_quint8 = np.dtype([(\"quint8\", np.uint8, 1)])\n",
      "//anaconda3/lib/python3.7/site-packages/tensorflow/python/framework/dtypes.py:518: FutureWarning: Passing (type, 1) or '1type' as a synonym of type is deprecated; in a future version of numpy, it will be understood as (type, (1,)) / '(1,)type'.\n",
      "  _np_qint16 = np.dtype([(\"qint16\", np.int16, 1)])\n",
      "//anaconda3/lib/python3.7/site-packages/tensorflow/python/framework/dtypes.py:519: FutureWarning: Passing (type, 1) or '1type' as a synonym of type is deprecated; in a future version of numpy, it will be understood as (type, (1,)) / '(1,)type'.\n",
      "  _np_quint16 = np.dtype([(\"quint16\", np.uint16, 1)])\n",
      "//anaconda3/lib/python3.7/site-packages/tensorflow/python/framework/dtypes.py:520: FutureWarning: Passing (type, 1) or '1type' as a synonym of type is deprecated; in a future version of numpy, it will be understood as (type, (1,)) / '(1,)type'.\n",
      "  _np_qint32 = np.dtype([(\"qint32\", np.int32, 1)])\n",
      "//anaconda3/lib/python3.7/site-packages/tensorflow/python/framework/dtypes.py:525: FutureWarning: Passing (type, 1) or '1type' as a synonym of type is deprecated; in a future version of numpy, it will be understood as (type, (1,)) / '(1,)type'.\n",
      "  np_resource = np.dtype([(\"resource\", np.ubyte, 1)])\n",
      "//anaconda3/lib/python3.7/site-packages/tensorboard/compat/tensorflow_stub/dtypes.py:541: FutureWarning: Passing (type, 1) or '1type' as a synonym of type is deprecated; in a future version of numpy, it will be understood as (type, (1,)) / '(1,)type'.\n",
      "  _np_qint8 = np.dtype([(\"qint8\", np.int8, 1)])\n",
      "//anaconda3/lib/python3.7/site-packages/tensorboard/compat/tensorflow_stub/dtypes.py:542: FutureWarning: Passing (type, 1) or '1type' as a synonym of type is deprecated; in a future version of numpy, it will be understood as (type, (1,)) / '(1,)type'.\n",
      "  _np_quint8 = np.dtype([(\"quint8\", np.uint8, 1)])\n",
      "//anaconda3/lib/python3.7/site-packages/tensorboard/compat/tensorflow_stub/dtypes.py:543: FutureWarning: Passing (type, 1) or '1type' as a synonym of type is deprecated; in a future version of numpy, it will be understood as (type, (1,)) / '(1,)type'.\n",
      "  _np_qint16 = np.dtype([(\"qint16\", np.int16, 1)])\n",
      "//anaconda3/lib/python3.7/site-packages/tensorboard/compat/tensorflow_stub/dtypes.py:544: FutureWarning: Passing (type, 1) or '1type' as a synonym of type is deprecated; in a future version of numpy, it will be understood as (type, (1,)) / '(1,)type'.\n",
      "  _np_quint16 = np.dtype([(\"quint16\", np.uint16, 1)])\n",
      "//anaconda3/lib/python3.7/site-packages/tensorboard/compat/tensorflow_stub/dtypes.py:545: FutureWarning: Passing (type, 1) or '1type' as a synonym of type is deprecated; in a future version of numpy, it will be understood as (type, (1,)) / '(1,)type'.\n",
      "  _np_qint32 = np.dtype([(\"qint32\", np.int32, 1)])\n",
      "//anaconda3/lib/python3.7/site-packages/tensorboard/compat/tensorflow_stub/dtypes.py:550: FutureWarning: Passing (type, 1) or '1type' as a synonym of type is deprecated; in a future version of numpy, it will be understood as (type, (1,)) / '(1,)type'.\n",
      "  np_resource = np.dtype([(\"resource\", np.ubyte, 1)])\n",
      "Using TensorFlow backend.\n"
     ]
    }
   ],
   "source": [
    "import pandas as pd\n",
    "import numpy as np\n",
    "import os\n",
    "import sys\n",
    "import cv2\n",
    "import matplotlib.pyplot as plt\n",
    "import tensorflow as tf\n",
    "import keras\n",
    "from sklearn.model_selection import train_test_split\n",
    "from tensorflow.keras.models import Sequential\n",
    "from tensorflow.keras.layers import Dense, Flatten, Dropout, Activation, Conv2D, MaxPooling2D\n",
    "from keras.preprocessing.image import ImageDataGenerator\n",
    "import warnings\n",
    "warnings.filterwarnings(action='ignore')"
   ]
  },
  {
   "cell_type": "code",
   "execution_count": 2,
   "metadata": {},
   "outputs": [
    {
     "data": {
      "text/plain": [
       "'/Users/doug/DSI Global/Capstone'"
      ]
     },
     "execution_count": 2,
     "metadata": {},
     "output_type": "execute_result"
    }
   ],
   "source": [
    "pwd"
   ]
  },
  {
   "cell_type": "code",
   "execution_count": 3,
   "metadata": {},
   "outputs": [],
   "source": [
    "folder_path = \"Classes/\"\n",
    "model_dir = os.listdir(folder_path)"
   ]
  },
  {
   "cell_type": "code",
   "execution_count": 4,
   "metadata": {},
   "outputs": [
    {
     "data": {
      "text/plain": [
       "['golf',\n",
       " '.DS_Store',\n",
       " 'Passat',\n",
       " 'GTI',\n",
       " 'golf_sportwagen',\n",
       " 'Tiguan',\n",
       " 'Jetta',\n",
       " 'Atlas']"
      ]
     },
     "execution_count": 4,
     "metadata": {},
     "output_type": "execute_result"
    }
   ],
   "source": [
    "model_dir"
   ]
  },
  {
   "cell_type": "code",
   "execution_count": 5,
   "metadata": {},
   "outputs": [],
   "source": [
    "vw = pd.DataFrame()"
   ]
  },
  {
   "cell_type": "code",
   "execution_count": 6,
   "metadata": {},
   "outputs": [
    {
     "name": "stdout",
     "output_type": "stream",
     "text": [
      "golf\n",
      ".DS_Store\n",
      "Passat\n",
      "GTI\n",
      "golf_sportwagen\n",
      "Tiguan\n",
      "Jetta\n",
      "Atlas\n"
     ]
    }
   ],
   "source": [
    "for model in model_dir:\n",
    "    print(model)"
   ]
  },
  {
   "cell_type": "code",
   "execution_count": null,
   "metadata": {},
   "outputs": [],
   "source": []
  },
  {
   "cell_type": "code",
   "execution_count": 29,
   "metadata": {
    "scrolled": true
   },
   "outputs": [],
   "source": [
    "for model in model_dir:\n",
    "    model_list = []\n",
    "    try:\n",
    "        classes = \"Classes/\"\n",
    "        folder_path = classes + model\n",
    "        photo_dir = os.listdir(folder_path)\n",
    "\n",
    "        for photo in photo_dir:\n",
    "            fpath = (folder_path + '/' + photo)\n",
    "#             print(fpath)\n",
    "#             print(photo)\n",
    "            vw = vw.append({'model': model, 'photo': photo, 'folder_path': fpath},ignore_index=True)\n",
    "        \n",
    "            \n",
    "#             print(model)\n",
    "#             print(photo)\n",
    "#             print(folder_path + '/' + photo)\n",
    "    except:\n",
    "        pass\n",
    "    "
   ]
  },
  {
   "cell_type": "code",
   "execution_count": 8,
   "metadata": {},
   "outputs": [
    {
     "data": {
      "text/plain": [
       "GTI                0.199029\n",
       "golf_sportwagen    0.189927\n",
       "Passat             0.179005\n",
       "golf               0.155340\n",
       "Jetta              0.137136\n",
       "Atlas              0.089199\n",
       "Tiguan             0.050364\n",
       "Name: model, dtype: float64"
      ]
     },
     "execution_count": 8,
     "metadata": {},
     "output_type": "execute_result"
    }
   ],
   "source": [
    "vw['model'].value_counts(normalize=True)"
   ]
  },
  {
   "cell_type": "code",
   "execution_count": 9,
   "metadata": {
    "scrolled": false
   },
   "outputs": [
    {
     "data": {
      "text/plain": [
       "1628                         Classes/Atlas/39.image-1.jpg\n",
       "1629    Classes/Atlas/60.Side-View-of-Red-Volkswagen-A...\n",
       "1630                         Classes/Atlas/67.image-1.jpg\n",
       "1631    Classes/Atlas/20.51c5270734cb306a7f39c617674bc...\n",
       "1632    Classes/Atlas/49.2018-volkswagen-atlas-review.jpg\n",
       "1633         Classes/Atlas/8.2018-Volkswagen-Atlas-01.jpg\n",
       "1634    Classes/Atlas/59.28df8ee6c7129d0f4d6f943f40a4e...\n",
       "1635    Classes/Atlas/65.2019-Volkswagen-Atlas-white-f...\n",
       "1636    Classes/Atlas/66.cc_2019vws050001_03_640_0q0q.jpg\n",
       "1637                               Classes/Atlas/92.1.jpg\n",
       "1638    Classes/Atlas/6.b0ce4177a13d68e009a32a30fbaf13...\n",
       "1639    Classes/Atlas/36.2018-volkswagen-atlas-Reflex-...\n",
       "1640    Classes/Atlas/30.https%3A%2F%2Fblogs-images.fo...\n",
       "1641    Classes/Atlas/31.2018-Volkswagen-Atlas-1-760x5...\n",
       "1642    Classes/Atlas/3.2019_volkswagen_atlas_angularf...\n",
       "1643    Classes/Atlas/43.04bd94ebb3198f230fa00022f9bc7...\n",
       "1644                     Classes/Atlas/58.18462088628.jpg\n",
       "1645    Classes/Atlas/81.5b538743d5c0d5a267018958b6022...\n",
       "1646         Classes/Atlas/38.2018-volkswagen-atlas-1.jpg\n",
       "1647    Classes/Atlas/31.2019-volkswagen-atlas_1006700...\n",
       "Name: folder_path, dtype: object"
      ]
     },
     "execution_count": 9,
     "metadata": {},
     "output_type": "execute_result"
    }
   ],
   "source": [
    "vw['folder_path'].tail(20)"
   ]
  },
  {
   "cell_type": "code",
   "execution_count": 10,
   "metadata": {},
   "outputs": [],
   "source": [
    "train_df, valid_df = train_test_split(vw, random_state=69)"
   ]
  },
  {
   "cell_type": "code",
   "execution_count": 11,
   "metadata": {
    "scrolled": true
   },
   "outputs": [
    {
     "data": {
      "text/html": [
       "<div>\n",
       "<style scoped>\n",
       "    .dataframe tbody tr th:only-of-type {\n",
       "        vertical-align: middle;\n",
       "    }\n",
       "\n",
       "    .dataframe tbody tr th {\n",
       "        vertical-align: top;\n",
       "    }\n",
       "\n",
       "    .dataframe thead th {\n",
       "        text-align: right;\n",
       "    }\n",
       "</style>\n",
       "<table border=\"1\" class=\"dataframe\">\n",
       "  <thead>\n",
       "    <tr style=\"text-align: right;\">\n",
       "      <th></th>\n",
       "      <th>folder_path</th>\n",
       "      <th>model</th>\n",
       "      <th>photo</th>\n",
       "    </tr>\n",
       "  </thead>\n",
       "  <tbody>\n",
       "    <tr>\n",
       "      <td>148</td>\n",
       "      <td>Classes/golf/73.1.jpg</td>\n",
       "      <td>golf</td>\n",
       "      <td>73.1.jpg</td>\n",
       "    </tr>\n",
       "    <tr>\n",
       "      <td>1590</td>\n",
       "      <td>Classes/Atlas/71.2018-atlas-V6-SE-640x480.jpg</td>\n",
       "      <td>Atlas</td>\n",
       "      <td>71.2018-atlas-V6-SE-640x480.jpg</td>\n",
       "    </tr>\n",
       "    <tr>\n",
       "      <td>632</td>\n",
       "      <td>Classes/GTI/8.2019-volkswagen-gti-rabbit-editi...</td>\n",
       "      <td>GTI</td>\n",
       "      <td>8.2019-volkswagen-gti-rabbit-edition.jpg</td>\n",
       "    </tr>\n",
       "    <tr>\n",
       "      <td>6</td>\n",
       "      <td>Classes/golf/70.volkswagen-golf%20gti-hero__la...</td>\n",
       "      <td>golf</td>\n",
       "      <td>70.volkswagen-golf%20gti-hero__large.jpg</td>\n",
       "    </tr>\n",
       "    <tr>\n",
       "      <td>184</td>\n",
       "      <td>Classes/golf/48.399215.jpg</td>\n",
       "      <td>golf</td>\n",
       "      <td>48.399215.jpg</td>\n",
       "    </tr>\n",
       "    <tr>\n",
       "      <td>...</td>\n",
       "      <td>...</td>\n",
       "      <td>...</td>\n",
       "      <td>...</td>\n",
       "    </tr>\n",
       "    <tr>\n",
       "      <td>439</td>\n",
       "      <td>Classes/Passat/39.volkswagen%20passat%202018%2...</td>\n",
       "      <td>Passat</td>\n",
       "      <td>39.volkswagen%20passat%202018%20(8)fr.JPG</td>\n",
       "    </tr>\n",
       "    <tr>\n",
       "      <td>1626</td>\n",
       "      <td>Classes/Atlas/66.67ebbe394042226be3aede3f4e0ab...</td>\n",
       "      <td>Atlas</td>\n",
       "      <td>66.67ebbe394042226be3aede3f4e0ab0da.jpg</td>\n",
       "    </tr>\n",
       "    <tr>\n",
       "      <td>619</td>\n",
       "      <td>Classes/GTI/32.249792.jpg</td>\n",
       "      <td>GTI</td>\n",
       "      <td>32.249792.jpg</td>\n",
       "    </tr>\n",
       "    <tr>\n",
       "      <td>1227</td>\n",
       "      <td>Classes/Tiguan/36.2019-Volkswagen-Tiguan-white...</td>\n",
       "      <td>Tiguan</td>\n",
       "      <td>36.2019-Volkswagen-Tiguan-white-full_color-dri...</td>\n",
       "    </tr>\n",
       "    <tr>\n",
       "      <td>1078</td>\n",
       "      <td>Classes/golf_sportwagen/54.2a20b3cff82795af08a...</td>\n",
       "      <td>golf_sportwagen</td>\n",
       "      <td>54.2a20b3cff82795af08a9f206a5b44ffd.jpg</td>\n",
       "    </tr>\n",
       "  </tbody>\n",
       "</table>\n",
       "<p>1236 rows × 3 columns</p>\n",
       "</div>"
      ],
      "text/plain": [
       "                                            folder_path            model  \\\n",
       "148                               Classes/golf/73.1.jpg             golf   \n",
       "1590      Classes/Atlas/71.2018-atlas-V6-SE-640x480.jpg            Atlas   \n",
       "632   Classes/GTI/8.2019-volkswagen-gti-rabbit-editi...              GTI   \n",
       "6     Classes/golf/70.volkswagen-golf%20gti-hero__la...             golf   \n",
       "184                          Classes/golf/48.399215.jpg             golf   \n",
       "...                                                 ...              ...   \n",
       "439   Classes/Passat/39.volkswagen%20passat%202018%2...           Passat   \n",
       "1626  Classes/Atlas/66.67ebbe394042226be3aede3f4e0ab...            Atlas   \n",
       "619                           Classes/GTI/32.249792.jpg              GTI   \n",
       "1227  Classes/Tiguan/36.2019-Volkswagen-Tiguan-white...           Tiguan   \n",
       "1078  Classes/golf_sportwagen/54.2a20b3cff82795af08a...  golf_sportwagen   \n",
       "\n",
       "                                                  photo  \n",
       "148                                            73.1.jpg  \n",
       "1590                    71.2018-atlas-V6-SE-640x480.jpg  \n",
       "632            8.2019-volkswagen-gti-rabbit-edition.jpg  \n",
       "6              70.volkswagen-golf%20gti-hero__large.jpg  \n",
       "184                                       48.399215.jpg  \n",
       "...                                                 ...  \n",
       "439           39.volkswagen%20passat%202018%20(8)fr.JPG  \n",
       "1626            66.67ebbe394042226be3aede3f4e0ab0da.jpg  \n",
       "619                                       32.249792.jpg  \n",
       "1227  36.2019-Volkswagen-Tiguan-white-full_color-dri...  \n",
       "1078            54.2a20b3cff82795af08a9f206a5b44ffd.jpg  \n",
       "\n",
       "[1236 rows x 3 columns]"
      ]
     },
     "execution_count": 11,
     "metadata": {},
     "output_type": "execute_result"
    }
   ],
   "source": [
    "train_df"
   ]
  },
  {
   "cell_type": "code",
   "execution_count": 12,
   "metadata": {},
   "outputs": [],
   "source": [
    "datagen = ImageDataGenerator(\n",
    "        rescale=1./255,\n",
    "        shear_range=0.2,\n",
    "        zoom_range=0.2,\n",
    "        horizontal_flip=True)"
   ]
  },
  {
   "cell_type": "code",
   "execution_count": 13,
   "metadata": {},
   "outputs": [],
   "source": [
    "# datagen=ImageDataGenerator(featurewise_center=True,\n",
    "#                            featurewise_std_normalization=True,\n",
    "#                            rotation_range=20,\n",
    "#                            width_shift_range=0.1,\n",
    "#                            height_shift_range=0.1,\n",
    "#                            shear_range=16,\n",
    "#                            zoom_range=[0.9, 1.1],\n",
    "#                            fill_mode=\"constant\",\n",
    "#                            cval=255,\n",
    "#                            horizontal_flip=True,\n",
    "#                            vertical_flip=True,\n",
    "#                            rescale=1./255.)"
   ]
  },
  {
   "cell_type": "code",
   "execution_count": 14,
   "metadata": {},
   "outputs": [
    {
     "name": "stdout",
     "output_type": "stream",
     "text": [
      "Found 1230 validated image filenames belonging to 7 classes.\n"
     ]
    }
   ],
   "source": [
    "train_generator = datagen.flow_from_dataframe(\n",
    "        dataframe=train_df,\n",
    "        directory=None,\n",
    "        x_col=\"folder_path\",\n",
    "        y_col=\"model\",\n",
    "        target_size=(150, 150),\n",
    "        batch_size=32,\n",
    "        class_mode='categorical')"
   ]
  },
  {
   "cell_type": "code",
   "execution_count": 15,
   "metadata": {
    "scrolled": true
   },
   "outputs": [
    {
     "name": "stdout",
     "output_type": "stream",
     "text": [
      "Found 411 validated image filenames belonging to 7 classes.\n"
     ]
    }
   ],
   "source": [
    "\n",
    "\n",
    "validation_generator = datagen.flow_from_dataframe(\n",
    "        dataframe=valid_df,\n",
    "        directory=None,\n",
    "        x_col=\"folder_path\",\n",
    "        y_col=\"model\",\n",
    "        target_size=(150, 150),\n",
    "        batch_size=32,\n",
    "        class_mode='categorical')\n"
   ]
  },
  {
   "cell_type": "code",
   "execution_count": 16,
   "metadata": {},
   "outputs": [
    {
     "name": "stdout",
     "output_type": "stream",
     "text": [
      "WARNING:tensorflow:From //anaconda3/lib/python3.7/site-packages/tensorflow/python/ops/init_ops.py:1251: calling VarianceScaling.__init__ (from tensorflow.python.ops.init_ops) with dtype is deprecated and will be removed in a future version.\n",
      "Instructions for updating:\n",
      "Call initializer instance with the dtype argument instead of passing it to the constructor\n"
     ]
    }
   ],
   "source": [
    "model = Sequential()\n",
    "\n",
    "model.add(Conv2D(filters = 6,                # number of filters\n",
    "                     kernel_size = (3, 3),       # height/width of filter\n",
    "                     activation = 'relu',        # activation function \n",
    "                     input_shape = (150, 150, 3)))\n",
    "\n",
    "model.add(MaxPooling2D(pool_size = (2,2))) # dimensions of region of pooling\n",
    "\n",
    "model.add(Conv2D(filters = 16,\n",
    "                     kernel_size= (3,3),\n",
    "                     activation= 'relu'))\n",
    "\n",
    "model.add(MaxPooling2D(pool_size= (2,2)))\n",
    "\n",
    "model.add(Flatten())\n",
    "\n",
    "model.add(Dense(128, activation='relu'))\n",
    "\n",
    "model.add(Dense(7, activation = 'softmax'))\n",
    "\n",
    "model.compile(loss='categorical_crossentropy',\n",
    "                  optimizer='adam',\n",
    "                  metrics=['accuracy'])"
   ]
  },
  {
   "cell_type": "code",
   "execution_count": 17,
   "metadata": {},
   "outputs": [
    {
     "name": "stdout",
     "output_type": "stream",
     "text": [
      "38/38 [==============================] - 75s 2s/step - loss: 2.1143 - acc: 0.1753 - val_loss: 1.8682 - val_acc: 0.2161\n"
     ]
    },
    {
     "data": {
      "text/plain": [
       "<tensorflow.python.keras.callbacks.History at 0x14c117e10>"
      ]
     },
     "execution_count": 17,
     "metadata": {},
     "output_type": "execute_result"
    }
   ],
   "source": [
    "STEP_SIZE_TRAIN=train_generator.n//train_generator.batch_size\n",
    "STEP_SIZE_VALID=validation_generator.n//validation_generator.batch_size\n",
    "model.fit_generator(generator=train_generator,\n",
    "                    steps_per_epoch=STEP_SIZE_TRAIN,\n",
    "                    validation_data=validation_generator,\n",
    "                    validation_steps=STEP_SIZE_VALID,\n",
    "                    epochs=1,\n",
    "                    verbose=1)"
   ]
  },
  {
   "cell_type": "code",
   "execution_count": 18,
   "metadata": {},
   "outputs": [
    {
     "name": "stdout",
     "output_type": "stream",
     "text": [
      "12/12 [==============================] - 15s 1s/step - loss: 1.8721 - acc: 0.1719\n"
     ]
    },
    {
     "data": {
      "text/plain": [
       "[1.8721016546090443, 0.171875]"
      ]
     },
     "execution_count": 18,
     "metadata": {},
     "output_type": "execute_result"
    }
   ],
   "source": [
    "model.evaluate_generator(generator=validation_generator,\n",
    "                         steps=STEP_SIZE_VALID,\n",
    "                         verbose=1)"
   ]
  },
  {
   "cell_type": "code",
   "execution_count": 19,
   "metadata": {},
   "outputs": [
    {
     "data": {
      "text/plain": [
       "'/Users/doug/DSI Global/Capstone'"
      ]
     },
     "execution_count": 19,
     "metadata": {},
     "output_type": "execute_result"
    }
   ],
   "source": [
    "pwd"
   ]
  },
  {
   "cell_type": "code",
   "execution_count": 20,
   "metadata": {},
   "outputs": [],
   "source": [
    "for unknown_car in model_dir:\n",
    "    unknown_car_list = []\n",
    "    try:\n",
    "        classes = \"TEST/\"\n",
    "        folder_path = classes + unknown_car\n",
    "        photo_dir = os.listdir(folder_path)\n",
    "\n",
    "        for photo in photo_dir:\n",
    "            fpath = (folder_path + '/' + photo)\n",
    "            print(fpath)\n",
    "            print(photo)\n",
    "            vw = vw.append({'folder_path': fpath},ignore_index=True)\n",
    "        \n",
    "            \n",
    "#             print(unknown_car)\n",
    "#             print(photo)\n",
    "#             print(folder_path + '/' + photo)\n",
    "    except:\n",
    "        pass\n",
    "    "
   ]
  },
  {
   "cell_type": "code",
   "execution_count": null,
   "metadata": {},
   "outputs": [],
   "source": []
  },
  {
   "cell_type": "code",
   "execution_count": 21,
   "metadata": {},
   "outputs": [],
   "source": [
    "test_df = pd.DataFrame()\n",
    "test_photo_dir = os.listdir('TEST/')\n",
    "for photo in test_photo_dir:\n",
    "    fpath = 'TEST/' + photo\n",
    "    test_df = test_df.append({'photo': fpath}, ignore_index=True)"
   ]
  },
  {
   "cell_type": "code",
   "execution_count": 22,
   "metadata": {
    "scrolled": false
   },
   "outputs": [
    {
     "data": {
      "text/html": [
       "<div>\n",
       "<style scoped>\n",
       "    .dataframe tbody tr th:only-of-type {\n",
       "        vertical-align: middle;\n",
       "    }\n",
       "\n",
       "    .dataframe tbody tr th {\n",
       "        vertical-align: top;\n",
       "    }\n",
       "\n",
       "    .dataframe thead th {\n",
       "        text-align: right;\n",
       "    }\n",
       "</style>\n",
       "<table border=\"1\" class=\"dataframe\">\n",
       "  <thead>\n",
       "    <tr style=\"text-align: right;\">\n",
       "      <th></th>\n",
       "      <th>photo</th>\n",
       "    </tr>\n",
       "  </thead>\n",
       "  <tbody>\n",
       "    <tr>\n",
       "      <td>1</td>\n",
       "      <td>TEST/.DS_Store</td>\n",
       "    </tr>\n",
       "    <tr>\n",
       "      <td>2</td>\n",
       "      <td>TEST/DSC_0037.JPG</td>\n",
       "    </tr>\n",
       "    <tr>\n",
       "      <td>3</td>\n",
       "      <td>TEST/DSC_0127.JPG</td>\n",
       "    </tr>\n",
       "    <tr>\n",
       "      <td>4</td>\n",
       "      <td>TEST/DSC_0047.JPG</td>\n",
       "    </tr>\n",
       "    <tr>\n",
       "      <td>5</td>\n",
       "      <td>TEST/DSC_0131.JPG</td>\n",
       "    </tr>\n",
       "    <tr>\n",
       "      <td>6</td>\n",
       "      <td>TEST/DSC_0049.JPG</td>\n",
       "    </tr>\n",
       "  </tbody>\n",
       "</table>\n",
       "</div>"
      ],
      "text/plain": [
       "               photo\n",
       "1     TEST/.DS_Store\n",
       "2  TEST/DSC_0037.JPG\n",
       "3  TEST/DSC_0127.JPG\n",
       "4  TEST/DSC_0047.JPG\n",
       "5  TEST/DSC_0131.JPG\n",
       "6  TEST/DSC_0049.JPG"
      ]
     },
     "execution_count": 22,
     "metadata": {},
     "output_type": "execute_result"
    }
   ],
   "source": [
    "\n",
    "test_df = test_df.drop(test_df.index[0])\n",
    "test_df"
   ]
  },
  {
   "cell_type": "code",
   "execution_count": 23,
   "metadata": {},
   "outputs": [
    {
     "name": "stdout",
     "output_type": "stream",
     "text": [
      "Found 5 validated image filenames.\n"
     ]
    }
   ],
   "source": [
    "test_datagen=ImageDataGenerator(rescale=1./255.)\n",
    "test_generator=test_datagen.flow_from_dataframe(\n",
    "                                            dataframe=test_df,\n",
    "                                            directory=None,\n",
    "                                            x_col=\"photo\",\n",
    "                                            y_col=None,\n",
    "                                            batch_size=32,\n",
    "                                            shuffle=False,\n",
    "                                            class_mode=None,\n",
    "                                            target_size=(150, 150))"
   ]
  },
  {
   "cell_type": "code",
   "execution_count": 25,
   "metadata": {
    "scrolled": true
   },
   "outputs": [],
   "source": [
    "my_car = model.predict_generator(test_generator) # predictproba"
   ]
  },
  {
   "cell_type": "code",
   "execution_count": 26,
   "metadata": {},
   "outputs": [],
   "source": [
    "predicted_class_indices=np.argmax(my_car,axis=1)"
   ]
  },
  {
   "cell_type": "code",
   "execution_count": 27,
   "metadata": {},
   "outputs": [],
   "source": [
    "labels = (train_generator.class_indices)\n",
    "labels = dict((v,k) for k,v in labels.items())\n",
    "predictions = [labels[k] for k in predicted_class_indices]"
   ]
  },
  {
   "cell_type": "code",
   "execution_count": 28,
   "metadata": {},
   "outputs": [
    {
     "data": {
      "text/plain": [
       "['GTI',\n",
       " 'golf_sportwagen',\n",
       " 'golf_sportwagen',\n",
       " 'golf_sportwagen',\n",
       " 'golf_sportwagen']"
      ]
     },
     "execution_count": 28,
     "metadata": {},
     "output_type": "execute_result"
    }
   ],
   "source": [
    "predictions"
   ]
  }
 ],
 "metadata": {
  "kernelspec": {
   "display_name": "Python 3",
   "language": "python",
   "name": "python3"
  },
  "language_info": {
   "codemirror_mode": {
    "name": "ipython",
    "version": 3
   },
   "file_extension": ".py",
   "mimetype": "text/x-python",
   "name": "python",
   "nbconvert_exporter": "python",
   "pygments_lexer": "ipython3",
   "version": "3.7.3"
  }
 },
 "nbformat": 4,
 "nbformat_minor": 2
}
